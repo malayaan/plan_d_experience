{
 "cells": [
  {
   "cell_type": "code",
   "execution_count": 3,
   "metadata": {},
   "outputs": [
    {
     "name": "stdout",
     "output_type": "stream",
     "text": [
      "   Ltemp  Ltime  Lpress  Ctemp  Ctime  Catmos  Camber\n",
      "0     -1     -1      -1     -1     -1      -1     167\n",
      "1      1     -1      -1     -1      1       1      62\n",
      "2     -1      1      -1     -1      1      -1      41\n",
      "3      1      1      -1     -1     -1       1      73\n",
      "4     -1     -1       1     -1      1       1      47\n"
     ]
    },
    {
     "data": {
      "text/html": [
       "<div>\n",
       "<style scoped>\n",
       "    .dataframe tbody tr th:only-of-type {\n",
       "        vertical-align: middle;\n",
       "    }\n",
       "\n",
       "    .dataframe tbody tr th {\n",
       "        vertical-align: top;\n",
       "    }\n",
       "\n",
       "    .dataframe thead th {\n",
       "        text-align: right;\n",
       "    }\n",
       "</style>\n",
       "<table border=\"1\" class=\"dataframe\">\n",
       "  <thead>\n",
       "    <tr style=\"text-align: right;\">\n",
       "      <th></th>\n",
       "      <th>Ltemp</th>\n",
       "      <th>Ltime</th>\n",
       "      <th>Lpress</th>\n",
       "      <th>Ctemp</th>\n",
       "      <th>Ctime</th>\n",
       "      <th>Catmos</th>\n",
       "    </tr>\n",
       "  </thead>\n",
       "  <tbody>\n",
       "    <tr>\n",
       "      <th>Ltemp</th>\n",
       "      <td>16</td>\n",
       "      <td>0</td>\n",
       "      <td>0</td>\n",
       "      <td>0</td>\n",
       "      <td>0</td>\n",
       "      <td>0</td>\n",
       "    </tr>\n",
       "    <tr>\n",
       "      <th>Ltime</th>\n",
       "      <td>0</td>\n",
       "      <td>16</td>\n",
       "      <td>0</td>\n",
       "      <td>0</td>\n",
       "      <td>0</td>\n",
       "      <td>0</td>\n",
       "    </tr>\n",
       "    <tr>\n",
       "      <th>Lpress</th>\n",
       "      <td>0</td>\n",
       "      <td>0</td>\n",
       "      <td>16</td>\n",
       "      <td>0</td>\n",
       "      <td>0</td>\n",
       "      <td>0</td>\n",
       "    </tr>\n",
       "    <tr>\n",
       "      <th>Ctemp</th>\n",
       "      <td>0</td>\n",
       "      <td>0</td>\n",
       "      <td>0</td>\n",
       "      <td>16</td>\n",
       "      <td>0</td>\n",
       "      <td>0</td>\n",
       "    </tr>\n",
       "    <tr>\n",
       "      <th>Ctime</th>\n",
       "      <td>0</td>\n",
       "      <td>0</td>\n",
       "      <td>0</td>\n",
       "      <td>0</td>\n",
       "      <td>16</td>\n",
       "      <td>0</td>\n",
       "    </tr>\n",
       "    <tr>\n",
       "      <th>Catmos</th>\n",
       "      <td>0</td>\n",
       "      <td>0</td>\n",
       "      <td>0</td>\n",
       "      <td>0</td>\n",
       "      <td>0</td>\n",
       "      <td>16</td>\n",
       "    </tr>\n",
       "  </tbody>\n",
       "</table>\n",
       "</div>"
      ],
      "text/plain": [
       "        Ltemp  Ltime  Lpress  Ctemp  Ctime  Catmos\n",
       "Ltemp      16      0       0      0      0       0\n",
       "Ltime       0     16       0      0      0       0\n",
       "Lpress      0      0      16      0      0       0\n",
       "Ctemp       0      0       0     16      0       0\n",
       "Ctime       0      0       0      0     16       0\n",
       "Catmos      0      0       0      0      0      16"
      ]
     },
     "execution_count": 3,
     "metadata": {},
     "output_type": "execute_result"
    }
   ],
   "source": [
    "import pandas as pd\n",
    "\n",
    "file_path = 'silicium.txt'\n",
    "\n",
    "# Load the data from the silicium.txt file\n",
    "silicium_data = pd.read_csv(file_path, delim_whitespace=True)\n",
    "\n",
    "# Show the first few rows of the dataframe to understand its structure\n",
    "print(silicium_data.head())\n",
    "\n",
    "# Extract the design matrix (without the response variable 'Camber')\n",
    "design_matrix = silicium_data.drop('Camber', axis=1)\n",
    "\n",
    "# Compute the dot product of the design matrix with its transpose to check for orthogonality\n",
    "dot_product_matrix = design_matrix.T.dot(design_matrix)\n",
    "\n",
    "# Display the dot product matrix\n",
    "dot_product_matrix\n"
   ]
  },
  {
   "cell_type": "markdown",
   "metadata": {},
   "source": [
    "l’analyse des données issues du fichier silicium.txt révèle que nous sommes en présence d’un plan factoriel complet. Ce plan est caractérisé par la prise en compte de tous les niveaux possibles pour chaque facteur étudié. Chaque facteur est codé avec des niveaux -1 et +1, ce qui indique que nous utilisons un codage classique pour les plans à deux niveaux. La structure des données montre que chaque combinaison possible de facteurs a été expérimentée, ce qui est typique d’un plan factoriel complet.\n",
    "\n"
   ]
  },
  {
   "cell_type": "markdown",
   "metadata": {},
   "source": [
    "L’orthogonalité de ce plan est confirmée par les produits scalaires entre les colonnes de la matrice de conception, qui sont nuls pour les colonnes différentes, assurant ainsi des estimations non biaisées des effets des facteurs."
   ]
  },
  {
   "cell_type": "markdown",
   "metadata": {},
   "source": [
    "l'orthogonalité est essentielle pour permettre une analyse exhaustive des parametres qui infuence la courbure des plaques de sicilium qui nous interresse."
   ]
  },
  {
   "cell_type": "markdown",
   "metadata": {},
   "source": [
    "permet d’estimer les effets principaux et les interactions entre facteurs de manière indépendante."
   ]
  }
 ],
 "metadata": {
  "kernelspec": {
   "display_name": "Python 3",
   "language": "python",
   "name": "python3"
  },
  "language_info": {
   "codemirror_mode": {
    "name": "ipython",
    "version": 3
   },
   "file_extension": ".py",
   "mimetype": "text/x-python",
   "name": "python",
   "nbconvert_exporter": "python",
   "pygments_lexer": "ipython3",
   "version": "3.11.3"
  }
 },
 "nbformat": 4,
 "nbformat_minor": 2
}
